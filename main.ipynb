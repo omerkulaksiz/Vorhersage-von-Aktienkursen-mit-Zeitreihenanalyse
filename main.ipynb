{
 "cells": [
  {
   "metadata": {},
   "cell_type": "markdown",
   "source": "# TEST",
   "id": "cba636d795668705"
  },
  {
   "metadata": {},
   "cell_type": "code",
   "source": [
    "import os\n",
    "from datetime import datetime\n",
    "import json\n",
    "import requests\n",
    "from dotenv import load_dotenv\n",
    "import pandas as pd\n",
    "from matplotlib import pyplot as plt"
   ],
   "id": "e449826a752aa505",
   "outputs": [],
   "execution_count": null
  },
  {
   "metadata": {},
   "cell_type": "code",
   "source": "load_dotenv()\n",
   "id": "ee0971cbfac5d438",
   "outputs": [],
   "execution_count": null
  },
  {
   "metadata": {},
   "cell_type": "code",
   "source": [
    "month_val = \"2021-03\"\n",
    "symbol = \"AAPL\"\n",
    "\n"
   ],
   "id": "c01adcf685317aa2",
   "outputs": [],
   "execution_count": null
  },
  {
   "metadata": {},
   "cell_type": "code",
   "source": [
    "def parse_json():\n",
    "    api_key = os.getenv(\"API_KEY\")\n",
    "    function = \"TIME_SERIES_INTRADAY\"\n",
    "    url = f'https://www.alphavantage.co/query?function={function}&symbol={symbol}&interval=60min&outputsize=full&month={month_val}&apikey={api_key}'\n",
    "    response = requests.get(url)\n",
    "    data = response.json()\n",
    "    return data"
   ],
   "id": "c73248221877cd13",
   "outputs": [],
   "execution_count": null
  },
  {
   "metadata": {},
   "cell_type": "code",
   "source": "#print(parse_json())",
   "id": "734cca5a071b5e81",
   "outputs": [],
   "execution_count": null
  },
  {
   "metadata": {},
   "cell_type": "code",
   "source": [
    "def get_df(data):\n",
    "    time_series_data = data['Time Series (60min)']\n",
    "    df = pd.DataFrame.from_dict(time_series_data, orient='index')\n",
    "    df.index = pd.to_datetime(df.index)\n",
    "    df = df.sort_index()\n",
    "    df = df.astype(float)\n",
    "    return df"
   ],
   "id": "3d36a89ed142ffb0",
   "outputs": [],
   "execution_count": null
  },
  {
   "metadata": {},
   "cell_type": "code",
   "source": "#print(get_df(parse_json()))",
   "id": "ad24eff542cf7c72",
   "outputs": [],
   "execution_count": null
  },
  {
   "metadata": {},
   "cell_type": "code",
   "source": [
    "def create_json():\n",
    "    a_raw = parse_json()\n",
    "    timestamp = datetime.now().strftime(\"%Y%m%d%H%M%S\")\n",
    "    file_name = \"output\" + symbol + month_val + \".json\"\n",
    "    file_path = os.path.join('data', file_name)\n",
    "    with open(file_path , \"w\") as json_file:\n",
    "        json.dump(a_raw, json_file, indent=4)"
   ],
   "id": "a7252db03c7c9525",
   "outputs": [],
   "execution_count": null
  },
  {
   "metadata": {},
   "cell_type": "code",
   "source": [
    "def plot_json():\n",
    "    file_path = 'data/output' + symbol + month_val + '.json'\n",
    "    if os.path.exists(file_path):\n",
    "        with open(file_path) as json_file:\n",
    "            data = json.load(json_file)\n",
    "    else:\n",
    "        create_json()\n",
    "    with open('data/output' + symbol + month_val + '.json') as json_file:\n",
    "        json_data = json.load(json_file)\n",
    "    time_series = json_data['Time Series (60min)']\n",
    "    dates = list(time_series.keys())\n",
    "    closing_prices = [float(time_series[date]['4. close']) for date in dates]\n",
    "    #opening_prices = [float(time_series[date]['1. open']) for date in dates]\n",
    "\n",
    "    dates = [pd.to_datetime(date) for date in dates]\n",
    "\n",
    "    plt.figure(figsize=(12, 6))\n",
    "    plt.plot(dates, closing_prices, color='blue', label='Closing Price', linestyle='-', linewidth=2.5)\n",
    "    #plt.plot(dates, opening_prices, linestyle='--', color='green', label='Opening Price')\n",
    "    plt.title(symbol + ' Stock Price - ' + month_val)\n",
    "    plt.xlabel('Date')\n",
    "    plt.ylabel('Price ($)')\n",
    "    plt.xticks(rotation=45)\n",
    "    plt.legend(\n",
    "        ['Closing Price'],\n",
    "        loc='upper right'\n",
    "    )\n",
    "   # plt.legend(['Opening Price'], loc='upper right')\n",
    "    plt.grid(True)\n",
    "    plt.tight_layout()\n",
    "    plt.show()\n",
    "plot_json()"
   ],
   "id": "a5071a9840215c7c",
   "outputs": [],
   "execution_count": null
  },
  {
   "metadata": {},
   "cell_type": "code",
   "source": [
    "from statsmodels.tsa.arima.model import ARIMA\n",
    "\n",
    "def predict(df, forecast_steps=None):\n",
    "    closing_prices = df['4. close']\n",
    "    if forecast_steps is None:\n",
    "        forecast_steps = len(closing_prices)\n",
    "\n",
    "    model = ARIMA(closing_prices, order=(5,1,0))\n",
    "    model_fit = model.fit()\n",
    "\n",
    "    # Predict for the same period\n",
    "    predictions = model_fit.predict(start=1, end=len(closing_prices), typ='levels')\n",
    "\n",
    "    # Align prediction index with actual data\n",
    "    predictions.index = closing_prices.index[0:]  # skip first because of differencing\n",
    "\n",
    "    return closing_prices[0:], predictions\n"
   ],
   "id": "6fb3facebeb631b3",
   "outputs": [],
   "execution_count": null
  },
  {
   "metadata": {},
   "cell_type": "code",
   "source": [
    "def plot_prediction():\n",
    "    file_path = 'data/output' + symbol + month_val + '.json'\n",
    "\n",
    "    if not os.path.exists(file_path):\n",
    "        create_json()\n",
    "\n",
    "    with open(file_path) as json_file:\n",
    "        json_data = json.load(json_file)\n",
    "\n",
    "    df = get_df(json_data)\n",
    "\n",
    "    actual, predicted = predict(df, 30)\n",
    "\n",
    "    plt.figure(figsize=(14, 7))\n",
    "    plt.plot(actual.index, actual.values, label='Actual Closing Price', linewidth=2)\n",
    "    plt.plot(predicted.index, predicted.values, label='ARIMA Prediction', linestyle='--')\n",
    "\n",
    "    plt.title(f'{symbol} Stock Price vs ARIMA Prediction - {month_val}')\n",
    "    plt.xlabel('Date')\n",
    "    plt.ylabel('Price ($)')\n",
    "    plt.xticks(rotation=45)\n",
    "    plt.legend()\n",
    "    plt.grid(True)\n",
    "    plt.tight_layout()\n",
    "    plt.show()\n",
    "plot_prediction()"
   ],
   "id": "26cbaee15718e578",
   "outputs": [],
   "execution_count": null
  }
 ],
 "metadata": {
  "kernelspec": {
   "display_name": "Python 3",
   "language": "python",
   "name": "python3"
  },
  "language_info": {
   "codemirror_mode": {
    "name": "ipython",
    "version": 2
   },
   "file_extension": ".py",
   "mimetype": "text/x-python",
   "name": "python",
   "nbconvert_exporter": "python",
   "pygments_lexer": "ipython2",
   "version": "2.7.6"
  }
 },
 "nbformat": 4,
 "nbformat_minor": 5
}
