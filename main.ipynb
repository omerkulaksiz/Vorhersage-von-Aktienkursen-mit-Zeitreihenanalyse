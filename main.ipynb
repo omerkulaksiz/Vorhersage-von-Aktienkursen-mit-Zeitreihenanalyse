{
 "cells": [
  {
   "metadata": {},
   "cell_type": "markdown",
   "source": "# TEST",
   "id": "8a77807f92f26ee"
  },
  {
   "metadata": {},
   "cell_type": "code",
   "source": [
    "import os\n",
    "from datetime import datetime\n",
    "import json\n",
    "import requests\n",
    "from dotenv import load_dotenv\n",
    "import pandas as pd\n",
    "import config\n",
    "from matplotlib import pyplot as plt"
   ],
   "id": "fbc121e30a2defb3",
   "outputs": [],
   "execution_count": null
  },
  {
   "metadata": {},
   "cell_type": "code",
   "source": "load_dotenv()\n",
   "id": "3fb44b2fe7387f67",
   "outputs": [],
   "execution_count": null
  },
  {
   "metadata": {},
   "cell_type": "code",
   "source": [
    "month_val = \"2021-03\"\n",
    "symbol = \"AAPL\"\n",
    "\n"
   ],
   "id": "d3d8007930998a32",
   "outputs": [],
   "execution_count": null
  },
  {
   "metadata": {},
   "cell_type": "code",
   "source": [
    "def parse_json():\n",
    "    api_key = os.getenv(\"API_KEY\")\n",
    "    function = \"TIME_SERIES_INTRADAY\"\n",
    "    url = f'https://www.alphavantage.co/query?function={function}&symbol={symbol}&interval=60min&outputsize=full&month={month_val}&apikey={api_key}'\n",
    "    response = requests.get(url)\n",
    "    data = response.json()\n",
    "    return data"
   ],
   "id": "1e1390cc4994f659",
   "outputs": [],
   "execution_count": null
  },
  {
   "metadata": {},
   "cell_type": "code",
   "source": "print(parse_json())",
   "id": "c7b1bc996fd42d1a",
   "outputs": [],
   "execution_count": null
  },
  {
   "metadata": {},
   "cell_type": "code",
   "source": [
    "def get_df(data):\n",
    "    # Access the time series data directly from the nested dictionary\n",
    "    time_series_data = data['Time Series (60min)']\n",
    "    # Convert the nested dictionary to DataFrame\n",
    "    df = pd.DataFrame.from_dict(time_series_data, orient='index')\n",
    "    return df"
   ],
   "id": "64475845d19fdd03",
   "outputs": [],
   "execution_count": null
  },
  {
   "metadata": {},
   "cell_type": "code",
   "source": "print(get_df(parse_json()))",
   "id": "abf2541a04490bd1",
   "outputs": [],
   "execution_count": null
  },
  {
   "metadata": {},
   "cell_type": "code",
   "source": [
    "def create_json():\n",
    "    a_raw = parse_json()\n",
    "    timestamp = datetime.now().strftime(\"%Y%m%d%H%M%S\")\n",
    "    file_name = \"output\" + symbol + month_val + \".json\"\n",
    "    file_path = os.path.join('data', file_name)\n",
    "    with open(file_path , \"w\") as json_file:\n",
    "        json.dump(a_raw, json_file, indent=4)\n"
   ],
   "id": "2c2f47afc7288c8c",
   "outputs": [],
   "execution_count": null
  },
  {
   "metadata": {},
   "cell_type": "code",
   "source": [
    "def plot_json():\n",
    "    file_path = 'data/output' + symbol + month_val + '.json'\n",
    "    if os.path.exists(file_path):\n",
    "        with open(file_path) as json_file:\n",
    "            data = json.load(json_file)\n",
    "    else:\n",
    "        create_json()\n",
    "    with open('data/output' + symbol + month_val + '.json') as json_file:\n",
    "        json_data = json.load(json_file)\n",
    "    time_series = json_data['Time Series (60min)']\n",
    "    dates = list(time_series.keys())\n",
    "    closing_prices = [float(time_series[date]['4. close']) for date in dates]\n",
    "    #opening_prices = [float(time_series[date]['1. open']) for date in dates]\n",
    "\n",
    "    dates = [pd.to_datetime(date) for date in dates]\n",
    "\n",
    "    plt.figure(figsize=(12, 6))\n",
    "    plt.plot(dates, closing_prices, color='blue', label='Closing Price', linestyle='-', linewidth=2.5)\n",
    "    #plt.plot(dates, opening_prices, linestyle='--', color='green', label='Opening Price')\n",
    "    plt.title(symbol + ' Stock Price - January 2002')\n",
    "    plt.xlabel('Date')\n",
    "    plt.ylabel('Price ($)')\n",
    "    plt.xticks(rotation=45)\n",
    "    plt.legend(\n",
    "        ['Closing Price'],\n",
    "        loc='upper right'\n",
    "    )\n",
    "   # plt.legend(['Opening Price'], loc='upper right')\n",
    "    plt.grid(True)\n",
    "    plt.tight_layout()\n",
    "    plt.show()\n",
    "plot_json()"
   ],
   "id": "add073dbc3dc843f",
   "outputs": [],
   "execution_count": null
  }
 ],
 "metadata": {
  "kernelspec": {
   "display_name": "Python 3",
   "language": "python",
   "name": "python3"
  },
  "language_info": {
   "codemirror_mode": {
    "name": "ipython",
    "version": 2
   },
   "file_extension": ".py",
   "mimetype": "text/x-python",
   "name": "python",
   "nbconvert_exporter": "python",
   "pygments_lexer": "ipython2",
   "version": "2.7.6"
  }
 },
 "nbformat": 4,
 "nbformat_minor": 5
}
